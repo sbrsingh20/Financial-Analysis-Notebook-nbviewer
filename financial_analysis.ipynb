{
 "cells": [
  {
   "cell_type": "markdown",
   "metadata": {},
   "source": [
    "# Financial Analysis Notebook\n",
    "\n",
    "This notebook performs profitability and growth analysis on financial data from multiple CSV files."
   ]
  },
  {
   "cell_type": "code",
   "execution_count": 1,
   "metadata": {},
   "outputs": [],
   "source": [
    "# Import necessary libraries\n",
    "import pandas as pd\n",
    "import numpy as np\n",
    "import matplotlib.pyplot as plt\n",
    "import seaborn as sns\n",
    "from pandas import ExcelWriter\n",
    "from IPython.display import display, HTML\n",
    "\n",
    "# Set style for seaborn and matplotlib\n",
    "sns.set(style=\"whitegrid\")\n",
    "plt.rcParams['figure.figsize'] = (10, 6)"
   ]
  },
  {
   "cell_type": "code",
   "execution_count": 2,
   "metadata": {},
   "outputs": [],
   "source": [
    "# List of file paths to compare (add paths as needed)\n",
    "file_paths = [\n",
    "    \"tcs.csv\",\n",
    "    \"zeel.csv\",\n",
    "    \"tcs1.csv\",\n",
    "    \"zeel1.csv\"\n",
    "]\n",
    "\n",
    "# Date format for conversion\n",
    "date_format = \"%b-%y\"\n",
    "\n",
    "# Data containers\n",
    "all_profit_data = {}\n",
    "all_growth_data = {}\n",
    "comparative_metrics = {}"
   ]
  },
  {
   "cell_type": "code",
   "execution_count": 3,
   "metadata": {},
   "outputs": [],
   "source": [
    "# Analysis functions\n",
    "def profitability_analysis(df):\n",
    "    df['Gross Margin'] = (df['Total Revenue/Income'] - df['Total Operating Expense']) / df['Total Revenue/Income'] * 100\n",
    "    df['Operating Margin'] = df['Operating Income/Profit'] / df['Total Revenue/Income'] * 100\n",
    "    df['Net Profit Margin'] = df['Net Income'] / df['Total Revenue/Income'] * 100\n",
    "    return df[['Date', 'Gross Margin', 'Operating Margin', 'Net Profit Margin']]\n",
    "\n",
    "def growth_analysis(df):\n",
    "    df['Revenue Growth'] = df['Total Revenue/Income'].pct_change() * 100\n",
    "    df['Net Income Growth'] = df['Net Income'].pct_change() * 100\n",
    "    return df[['Date', 'Revenue Growth', 'Net Income Growth']]"
   ]
  },
  {
   "cell_type": "code",
   "execution_count": 4,
   "metadata": {},
   "outputs": [],
   "source": [
    "# Process each file and perform analysis\n",
    "for file_path in file_paths:\n",
    "    data = pd.read_csv(file_path)\n",
    "\n",
    "    # Convert Date column and sort\n",
    "    data['Date'] = pd.to_datetime(data['Date'], format=date_format, errors='coerce')\n",
    "    data.dropna(subset=['Date'], inplace=True)\n",
    "    data.sort_values('Date', inplace=True)\n",
    "\n",
    "    # Perform analyses\n",
    "    profit_data = profitability_analysis(data)\n",
    "    growth_data = growth_analysis(data)\n",
    "    \n",
    "    # Add file identifier\n",
    "    file_id = file_path.split('/')[-1].replace('.csv', '')\n",
    "    \n",
    "    # Store data in dictionaries with file-based keys\n",
    "    all_profit_data[f\"{file_id} Combined Profitability\"] = profit_data\n",
    "    all_growth_data[f\"{file_id} Combined Growth\"] = growth_data\n",
    "    \n",
    "    # Store comparative metrics\n",
    "    comparative_metrics[file_id] = {\n",
    "        \"Avg Gross Margin\": profit_data['Gross Margin'].mean(),\n",
    "        \"Avg Operating Margin\": profit_data['Operating Margin'].mean(),\n",
    "        \"Avg Net Profit Margin\": profit_data['Net Profit Margin'].mean(),\n",
    "        \"Avg Revenue Growth\": growth_data['Revenue Growth'].mean(),\n",
    "        \"Avg Net Income Growth\": growth_data['Net Income Growth'].mean()\n",
    "    }"
   ]
  },
  {
   "cell_type": "code",
   "execution_count": 5,
   "metadata": {},
   "outputs": [],
   "source": [
    "# Convert comparative metrics to DataFrame for easier export\n",
    "comparative_df = pd.DataFrame(comparative_metrics).T\n",
    "comparative_df.index.name = \"File\"\n",
    "comparative_df.reset_index(inplace=True)\n",
    "\n",
    "# Save results to Excel\n",
    "output_file = \"financial_comparison_analysis.xlsx\"\n",
    "with ExcelWriter(output_file) as writer:\n",
    "    for sheet_name, df in all_profit_data.items():\n",
    "        df.to_excel(writer, sheet_name=sheet_name, index=False)\n",
    "    for sheet_name, df in all_growth_data.items():\n",
    "        df.to_excel(writer, sheet_name=sheet_name, index=False)\n",
    "    comparative_df.to_excel(writer, sheet_name=\"Comparative Metrics\", index=False)"
   ]
  },
  {
   "cell_type": "code",
   "execution_count": 6,
   "metadata": {},
   "outputs": [],
   "source": [
    "# Plot comparison graphs\n",
    "plt.figure(figsize=(12, 8))\n",
    "comparative_df.plot(x=\"File\", kind=\"bar\", stacked=False)\n",
    "plt.title(\"Comparison of Key Financial Metrics Across Files\")\n",
    "plt.ylabel(\"Metric Averages\")\n",
    "plt.xticks(rotation=45)\n",
    "plt.tight_layout()\n",
    "plt.savefig(\"financial_metric_comparison.png\")\n",
    "plt.close()"
   ]
  },
  {
   "cell_type": "code",
   "execution_count": 7,
   "metadata": {},
   "outputs": [
    {
     "name": "stdout",
     "output_type": "stream",
     "text": [
      "Analysis complete. Results saved to financial_comparison_analysis.xlsx.\n"
     ]
    }
   ],
   "source": [
    "# Output completion message\n",
    "print(f\"Analysis complete. Results saved to {output_file}.\")"
   ]
  }
 ],
 "metadata": {
  "kernelspec": {
   "display_name": "Python 3",
   "language": "python",
   "name": "python3"
  },
  "language_info": {
   "codemirror_mode": {
    "name": "ipython",
    "version": 3
   },
   "file_extension": ".py",
   "mimetype": "text/x-python",
   "name": "python",
   "nbconvert_exporter": "python",
   "pygments_lexer": "ipython3",
   "version": "3.8.5"
  }
 },
 "nbformat": 4,
 "nbformat_minor": 4
}
